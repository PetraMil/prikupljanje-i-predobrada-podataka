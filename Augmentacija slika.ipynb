{
 "cells": [
  {
   "cell_type": "markdown",
   "id": "7c86d0b5-b54a-46a8-98c1-9a3df5de6ecd",
   "metadata": {},
   "source": [
    "# Prikupljanje i predobrada podataka\n",
    "## Augmentacija slika\n",
    "### Petra Milosavljević 1582"
   ]
  },
  {
   "cell_type": "code",
   "execution_count": 4,
   "id": "d26a3f10-4683-4bc5-bb40-9148eedb4227",
   "metadata": {},
   "outputs": [],
   "source": [
    "import os\n",
    "\n",
    "import numpy as np\n",
    "import cv2 as cv\n",
    "import pandas as pd\n",
    "import matplotlib.pyplot as plt\n",
    "from sklearn.metrics import precision_score, recall_score, f1_score\n",
    "import torch\n",
    "import torch.nn as nn\n",
    "from torch.utils.data import random_split\n",
    "import torchvision.transforms as transforms\n",
    "from torch.utils.data.dataloader import DataLoader\n",
    "from torchvision.datasets import ImageFolder"
   ]
  },
  {
   "cell_type": "code",
   "execution_count": 5,
   "id": "196fcce4-4f13-4799-aa9b-acf82618372e",
   "metadata": {},
   "outputs": [
    {
     "data": {
      "text/plain": [
       "['cardboard', 'glass', 'metal', 'paper', 'plastic', 'trash']"
      ]
     },
     "execution_count": 5,
     "metadata": {},
     "output_type": "execute_result"
    }
   ],
   "source": [
    "classes = os.listdir('Garbage classification')\n",
    "classes"
   ]
  },
  {
   "cell_type": "code",
   "execution_count": 6,
   "id": "33050b74-0221-431b-a1d1-0030ba993172",
   "metadata": {},
   "outputs": [],
   "source": [
    "transform_no_augment = transforms.Compose([\n",
    "    transforms.Resize((256, 256)),\n",
    "    transforms.ToTensor(),\n",
    "    transforms.Normalize(mean=[0.5, 0.5, 0.5], std=[0.5, 0.5, 0.5])\n",
    "])\n",
    "\n",
    "transform_with_augment = transforms.Compose([\n",
    "    transforms.Resize((256, 256)),\n",
    "    transforms.RandomApply([transforms.RandomHorizontalFlip()], p=0.5),\n",
    "    transforms.RandomApply([transforms.RandomVerticalFlip()], p=0.5),\n",
    "    transforms.RandomApply([transforms.ColorJitter(brightness=0.2, contrast=0.2, saturation=0.2, hue=0.2)], p=0.5),\n",
    "    transforms.RandomApply([transforms.RandomAffine(degrees=0, translate=(0.1, 0.1))], p=0.6),\n",
    "    transforms.RandomApply([transforms.RandomGrayscale(p=0.1)], p=0.1),\n",
    "    transforms.ToTensor(),\n",
    "    transforms.Normalize(mean=[0.5, 0.5, 0.5], std=[0.5, 0.5, 0.5])\n",
    "])\n",
    "\n",
    "dataset_no_augment = ImageFolder('Garbage classification', transform=transform_no_augment)\n",
    "dataset_with_augment = ImageFolder('Garbage classification', transform=transform_with_augment)"
   ]
  },
  {
   "cell_type": "code",
   "execution_count": 7,
   "id": "769f3cba-4418-4fcc-9f64-7c4697ae3330",
   "metadata": {},
   "outputs": [],
   "source": [
    "train_ds_no_augment, test_ds_no_augment = random_split(dataset_no_augment, [0.8, 0.2])\n",
    "train_ds_with_augment, test_ds_with_augment = random_split(dataset_with_augment, [0.8, 0.2])\n",
    "\n",
    "batch_size = 32\n",
    "device = \"cpu\"\n",
    "num_epochs = 10\n",
    "opt_func = torch.optim.Adam\n",
    "learning_rate = 5.5e-5\n",
    "\n",
    "train_dl_no_augment = DataLoader(\n",
    "    train_ds_no_augment, batch_size, shuffle=True, num_workers=4, pin_memory=True\n",
    ")\n",
    "test_dl_no_augment = DataLoader(test_ds_no_augment, batch_size, num_workers=4, pin_memory=True)\n",
    "\n",
    "train_dl_with_augment = DataLoader(\n",
    "    train_ds_with_augment, batch_size, shuffle=True, num_workers=4, pin_memory=True\n",
    ")\n",
    "test_dl_with_augment = DataLoader(test_ds_with_augment, batch_size, num_workers=4, pin_memory=True)"
   ]
  },
  {
   "cell_type": "code",
   "execution_count": 8,
   "id": "37784577-2973-47b2-aea1-03829a96ded6",
   "metadata": {},
   "outputs": [],
   "source": [
    "class CNN(nn.Module):\n",
    "    def __init__(self):\n",
    "        super(CNN, self).__init__()\n",
    "        self.conv1 = nn.Conv2d(3, 32, kernel_size=3, padding=1)\n",
    "        self.conv2 = nn.Conv2d(32, 64, kernel_size=3, padding=1)\n",
    "        self.pool = nn.MaxPool2d(2, 2)\n",
    "\n",
    "        self.fc1 = nn.Linear(64 * 64 * 64, 128)\n",
    "        self.fc2 = nn.Linear(128, 6)\n",
    "        self.relu = nn.ReLU()\n",
    "\n",
    "    def forward(self, x):\n",
    "        x = self.pool(self.relu(self.conv1(x)))\n",
    "        x = self.pool(self.relu(self.conv2(x)))\n",
    "        x = x.view(x.size(0), -1)\n",
    "        x = self.relu(self.fc1(x))\n",
    "        x = self.fc2(x)\n",
    "        return x"
   ]
  },
  {
   "cell_type": "code",
   "execution_count": 12,
   "id": "8e6f0f60-31dc-43ff-81bb-3c20e4a81baf",
   "metadata": {},
   "outputs": [],
   "source": [
    "def train(model, train_loader, criterion, optimizer, num_epochs):\n",
    "    train_loss_history = []\n",
    "\n",
    "    model.train()\n",
    "    for epoch in range(num_epochs):\n",
    "        running_loss = 0.0\n",
    "        for images, labels in train_loader:\n",
    "            images, labels = images.to(device), labels.to(device)\n",
    "\n",
    "            outputs = model(images)\n",
    "            loss = criterion(outputs, labels)\n",
    "\n",
    "            optimizer.zero_grad()\n",
    "            loss.backward()\n",
    "            optimizer.step()\n",
    "\n",
    "            running_loss += loss.item()\n",
    "\n",
    "        epoch_loss = running_loss / len(train_loader)\n",
    "        train_loss_history.append(epoch_loss)\n",
    "\n",
    "        print(f'Epoch [{epoch+1}/{num_epochs}], Loss: {epoch_loss:.4f}')\n",
    "\n",
    "    return train_loss_history\n",
    "\n",
    "def evaluate_model(model, test_loader):\n",
    "    model.eval()\n",
    "    correct = 0\n",
    "    total = 0\n",
    "    all_labels = []\n",
    "    all_preds = []\n",
    "\n",
    "    with torch.no_grad():\n",
    "        for images, labels in test_loader:\n",
    "            images, labels = images.to(device), labels.to(device)\n",
    "            outputs = model(images)\n",
    "            _, predicted = torch.max(outputs, 1)\n",
    "    \n",
    "            total += labels.size(0)\n",
    "            correct += (predicted == labels).sum().item()\n",
    "\n",
    "            all_labels.extend(labels.numpy())\n",
    "            all_preds.extend(predicted.numpy())\n",
    "\n",
    "    accuracy = 100 * correct / total\n",
    "    precision = precision_score(all_labels, all_preds, average='macro')\n",
    "    recall = recall_score(all_labels, all_preds, average='macro')\n",
    "    f1 = f1_score(all_labels, all_preds, average='macro')\n",
    "\n",
    "    return accuracy, precision, recall, f1"
   ]
  },
  {
   "cell_type": "code",
   "execution_count": 13,
   "id": "8646efb5-5bb4-4514-94bd-a6e7cd3e0a28",
   "metadata": {},
   "outputs": [],
   "source": [
    "def run_training(train_loader, test_loader, description):\n",
    "    print(f\"\\nTraining with {description}\")\n",
    "\n",
    "    model = CNN().to(device)\n",
    "    criterion = nn.CrossEntropyLoss()\n",
    "    optimizer = torch.optim.Adam(model.parameters(), lr=learning_rate)\n",
    "\n",
    "    train_loss_history = train(model, train_loader, criterion, optimizer, num_epochs)\n",
    "    test_accuracy, precision, recall, f1 = evaluate_model(model, test_loader)\n",
    "    \n",
    "    print(f'Test Accuracy with {description}: {test_accuracy:.2f}%')\n",
    "    print(f'Precision: {precision:.2f}, Recall: {recall:.2f}, F1 Score: {f1:.2f}')\n",
    "    \n",
    "    return train_loss_history, test_accuracy, precision, recall, f1"
   ]
  },
  {
   "cell_type": "code",
   "execution_count": 14,
   "id": "127f2064-5572-4761-9c40-a53ef0eee4d9",
   "metadata": {},
   "outputs": [
    {
     "name": "stdout",
     "output_type": "stream",
     "text": [
      "\n",
      "Training with No Augmentation\n",
      "Epoch [1/10], Loss: 1.4138\n",
      "Epoch [2/10], Loss: 1.1084\n",
      "Epoch [3/10], Loss: 0.9527\n",
      "Epoch [4/10], Loss: 0.8131\n",
      "Epoch [5/10], Loss: 0.7319\n",
      "Epoch [6/10], Loss: 0.6353\n",
      "Epoch [7/10], Loss: 0.5596\n",
      "Epoch [8/10], Loss: 0.4958\n",
      "Epoch [9/10], Loss: 0.4255\n",
      "Epoch [10/10], Loss: 0.3634\n",
      "Test Accuracy with No Augmentation: 67.52%\n",
      "Precision: 0.69, Recall: 0.63, F1 Score: 0.64\n"
     ]
    }
   ],
   "source": [
    "train_loss_no_augment, accuracy_no_augment, precision_no_augment, recall_no_augment, f1_no_augment = run_training(train_dl_no_augment, test_dl_no_augment, \"No Augmentation\")"
   ]
  },
  {
   "cell_type": "code",
   "execution_count": 15,
   "id": "551441c5-5ad6-42ca-badb-87bcab13f73e",
   "metadata": {},
   "outputs": [
    {
     "name": "stdout",
     "output_type": "stream",
     "text": [
      "\n",
      "Training with Data Augmentation\n",
      "Epoch [1/10], Loss: 1.5320\n",
      "Epoch [2/10], Loss: 1.3416\n",
      "Epoch [3/10], Loss: 1.3021\n",
      "Epoch [4/10], Loss: 1.2112\n",
      "Epoch [5/10], Loss: 1.1834\n",
      "Epoch [6/10], Loss: 1.1358\n",
      "Epoch [7/10], Loss: 1.0928\n",
      "Epoch [8/10], Loss: 1.0748\n",
      "Epoch [9/10], Loss: 1.0586\n",
      "Epoch [10/10], Loss: 1.0463\n",
      "Test Accuracy with Data Augmentation: 71.88%\n",
      "Precision: 0.72, Recall: 0.68, F1 Score: 0.69\n"
     ]
    }
   ],
   "source": [
    "train_loss_with_augment, accuracy_with_augment, precision_with_augment, recall_with_augment, f1_with_augment = run_training(train_dl_with_augment, test_dl_no_augment,  \"Data Augmentation\")"
   ]
  },
  {
   "cell_type": "code",
   "execution_count": 16,
   "id": "74fbd51c-64d5-4d73-96b6-61979f482031",
   "metadata": {},
   "outputs": [
    {
     "data": {
      "image/png": "[encoded data removed]",
      "text/plain": [
       "<Figure size 1000x500 with 1 Axes>"
      ]
     },
     "metadata": {},
     "output_type": "display_data"
    }
   ],
   "source": [
    "plt.figure(figsize=(10, 5))\n",
    "plt.plot(train_loss_no_augment, label='No Augmentation')\n",
    "plt.plot(train_loss_with_augment, label='Data Augmentation')\n",
    "plt.title('Training Loss')\n",
    "plt.xlabel('Epoch')\n",
    "plt.ylabel('Loss')\n",
    "plt.legend()\n",
    "plt.show()"
   ]
  },
  {
   "cell_type": "code",
   "execution_count": 17,
   "id": "15e1251e-cf2a-4f14-9136-515bbb25f106",
   "metadata": {},
   "outputs": [
    {
     "data": {
      "text/html": [
       "<div>\n",
       "<style scoped>\n",
       "    .dataframe tbody tr th:only-of-type {\n",
       "        vertical-align: middle;\n",
       "    }\n",
       "\n",
       "    .dataframe tbody tr th {\n",
       "        vertical-align: top;\n",
       "    }\n",
       "\n",
       "    .dataframe thead th {\n",
       "        text-align: right;\n",
       "    }\n",
       "</style>\n",
       "<table border=\"1\" class=\"dataframe\">\n",
       "  <thead>\n",
       "    <tr style=\"text-align: right;\">\n",
       "      <th></th>\n",
       "      <th>Augmentation</th>\n",
       "      <th>Accuracy</th>\n",
       "      <th>Precision</th>\n",
       "      <th>Recall</th>\n",
       "      <th>F1 score</th>\n",
       "    </tr>\n",
       "  </thead>\n",
       "  <tbody>\n",
       "    <tr>\n",
       "      <th>0</th>\n",
       "      <td>NO</td>\n",
       "      <td>67.524752</td>\n",
       "      <td>0.686427</td>\n",
       "      <td>0.632917</td>\n",
       "      <td>0.640984</td>\n",
       "    </tr>\n",
       "    <tr>\n",
       "      <th>1</th>\n",
       "      <td>YES</td>\n",
       "      <td>71.881188</td>\n",
       "      <td>0.721203</td>\n",
       "      <td>0.676128</td>\n",
       "      <td>0.686050</td>\n",
       "    </tr>\n",
       "  </tbody>\n",
       "</table>\n",
       "</div>"
      ],
      "text/plain": [
       "  Augmentation   Accuracy  Precision    Recall  F1 score\n",
       "0           NO  67.524752   0.686427  0.632917  0.640984\n",
       "1          YES  71.881188   0.721203  0.676128  0.686050"
      ]
     },
     "execution_count": 17,
     "metadata": {},
     "output_type": "execute_result"
    }
   ],
   "source": [
    "results = []\n",
    "results.append({\n",
    "        \"Augmentation\": \"NO\",\n",
    "        \"Accuracy\": accuracy_no_augment,\n",
    "        \"Precision\": precision_no_augment,\n",
    "        \"Recall\": recall_no_augment,\n",
    "        \"F1 score\": f1_no_augment,\n",
    "    })\n",
    "\n",
    "results.append({\n",
    "        \"Augmentation\": \"YES\",\n",
    "        \"Accuracy\": accuracy_with_augment,\n",
    "        \"Precision\": precision_with_augment,\n",
    "        \"Recall\": recall_with_augment,\n",
    "        \"F1 score\": f1_with_augment,\n",
    "    })\n",
    "\n",
    "results_df = pd.DataFrame(results)\n",
    "\n",
    "results_df"
   ]
  },
  {
   "cell_type": "markdown",
   "id": "76bbb753-ad09-4d66-949b-1a97f6a0f5c1",
   "metadata": {},
   "source": [
    "Iz grafika training loss-a vidimo da je modelu 'teže' u toku treninga, tj. da je loss veći, ukoliko koristimo augmentaciju. To ima smisla, jer smo augmentacijama dodali dosta varijateta u dataset i samim tim ga učinili težim za model. Ali na metrikama dobijenim na test dataset-u vidimo da u slučaju kada imamo augmentaciju model bolje generalizuje, tj. bolje radi na podacima iz test seta koje nije video u toku treninga.\n",
    "Metrike su povećane za nekoliko procenata, ali to bi moglo da bude i više uz ubacivanje nekih kompleksnijih augmentacija ili kompleksnijeg modela za klasifikaciju."
   ]
  },
  {
   "cell_type": "code",
   "execution_count": null,
   "id": "7393cf1c-1bdb-4d90-95df-9c0b5b327e23",
   "metadata": {},
   "outputs": [],
   "source": []
  }
 ],
 "metadata": {
  "kernelspec": {
   "display_name": "Python 3 (ipykernel)",
   "language": "python",
   "name": "python3"
  },
  "language_info": {
   "codemirror_mode": {
    "name": "ipython",
    "version": 3
   },
   "file_extension": ".py",
   "mimetype": "text/x-python",
   "name": "python",
   "nbconvert_exporter": "python",
   "pygments_lexer": "ipython3",
   "version": "3.12.1"
  }
 },
 "nbformat": 4,
 "nbformat_minor": 5
}
